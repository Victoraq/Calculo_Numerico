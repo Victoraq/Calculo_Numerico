{
 "cells": [
  {
   "cell_type": "markdown",
   "metadata": {},
   "source": [
    "# Métodos para encontrar raízes de equações não lineares"
   ]
  },
  {
   "cell_type": "code",
   "execution_count": 1,
   "metadata": {},
   "outputs": [],
   "source": [
    "import numpy as np\n",
    "import matplotlib.pyplot as plt"
   ]
  },
  {
   "cell_type": "code",
   "execution_count": 2,
   "metadata": {},
   "outputs": [],
   "source": [
    "def bissecao(a,b,f,maxit,erro):\n",
    "    x_old = 0\n",
    "    count = 0\n",
    "\n",
    "    for i in range(int(maxit)):\n",
    "        x = (a+b)/2\n",
    "        count+=1\n",
    "        \n",
    "        if abs(f(x)) < erro:\n",
    "            return x, count\n",
    "        \n",
    "        if f(a)*f(x) < 0:\n",
    "            b = x\n",
    "        else:\n",
    "            a = x\n",
    "        \n",
    "            \n",
    "    return x, count"
   ]
  },
  {
   "cell_type": "code",
   "execution_count": 28,
   "metadata": {},
   "outputs": [],
   "source": [
    "def falsa_posicao(a,b,f,maxit,erro):\n",
    "    x_old = 0\n",
    "    count = 0\n",
    "    \n",
    "    for i in range(maxit):\n",
    "#         print('a: '+str(a))\n",
    "#         print('b: '+str(b))\n",
    "#         print('f: '+str(f(b)-f(a)))\n",
    "              \n",
    "        x = (a*f(b)-b*f(a))/(f(b)-f(a))\n",
    "        count+=1\n",
    "        \n",
    "        if abs(f(x)) < erro:\n",
    "            return x, count\n",
    "        \n",
    "        x_old = x\n",
    "        \n",
    "        if f(a)*f(b) < 0:\n",
    "            b = x\n",
    "        else:\n",
    "            a = x\n",
    "    \n",
    "    return x, count"
   ]
  },
  {
   "cell_type": "code",
   "execution_count": 4,
   "metadata": {},
   "outputs": [],
   "source": [
    "def f(x):\n",
    "    return x**10 - 1"
   ]
  },
  {
   "cell_type": "code",
   "execution_count": 5,
   "metadata": {},
   "outputs": [
    {
     "data": {
      "image/png": "[encoded data removed]",
      "text/plain": [
       "<Figure size 432x288 with 1 Axes>"
      ]
     },
     "metadata": {},
     "output_type": "display_data"
    }
   ],
   "source": [
    "v = [f(x) for x in np.arange(0,2,0.01)]\n",
    "plt.plot(np.arange(0,2,0.01),v)\n",
    "plt.ylim(-1,2)\n",
    "plt.grid()\n",
    "# plt.savefig('ex01.pdf')\n",
    "plt.show()\n"
   ]
  },
  {
   "cell_type": "markdown",
   "metadata": {},
   "source": [
    "### Resolvendo a equação $f(x) = x^{10} - 1$ pelos métodos da bisseção e falsa posição"
   ]
  },
  {
   "cell_type": "code",
   "execution_count": 6,
   "metadata": {},
   "outputs": [
    {
     "name": "stdout",
     "output_type": "stream",
     "text": [
      "Valor: 1.0\n",
      "Loops: 1\n"
     ]
    }
   ],
   "source": [
    "A = 0\n",
    "B = 2\n",
    "ERRO = 10**(-5)\n",
    "MAXIT = 1000\n",
    "\n",
    "value, count = bissecao(A,B,f,MAXIT,ERRO)\n",
    "print('Valor: '+str(value))\n",
    "print('Loops: '+str(count))"
   ]
  },
  {
   "cell_type": "code",
   "execution_count": 7,
   "metadata": {},
   "outputs": [
    {
     "ename": "ZeroDivisionError",
     "evalue": "float division by zero",
     "output_type": "error",
     "traceback": [
      "\u001b[0;31m---------------------------------------------------------------------------\u001b[0m",
      "\u001b[0;31mZeroDivisionError\u001b[0m                         Traceback (most recent call last)",
      "\u001b[0;32m<ipython-input-7-9236b402fd0c>\u001b[0m in \u001b[0;36m<module>\u001b[0;34m()\u001b[0m\n\u001b[1;32m      3\u001b[0m \u001b[0mMAXIT\u001b[0m \u001b[0;34m=\u001b[0m \u001b[0;36m100\u001b[0m\u001b[0;34m\u001b[0m\u001b[0m\n\u001b[1;32m      4\u001b[0m \u001b[0mERRO\u001b[0m \u001b[0;34m=\u001b[0m \u001b[0;36m10\u001b[0m\u001b[0;34m**\u001b[0m\u001b[0;34m(\u001b[0m\u001b[0;34m-\u001b[0m\u001b[0;36m5\u001b[0m\u001b[0;34m)\u001b[0m\u001b[0;34m\u001b[0m\u001b[0m\n\u001b[0;32m----> 5\u001b[0;31m \u001b[0mvalue\u001b[0m\u001b[0;34m,\u001b[0m \u001b[0mcount\u001b[0m \u001b[0;34m=\u001b[0m \u001b[0mfalsa_posicao\u001b[0m\u001b[0;34m(\u001b[0m\u001b[0mA\u001b[0m\u001b[0;34m,\u001b[0m\u001b[0mB\u001b[0m\u001b[0;34m,\u001b[0m\u001b[0mf\u001b[0m\u001b[0;34m,\u001b[0m\u001b[0mMAXIT\u001b[0m\u001b[0;34m,\u001b[0m\u001b[0mERRO\u001b[0m\u001b[0;34m)\u001b[0m\u001b[0;34m\u001b[0m\u001b[0m\n\u001b[0m\u001b[1;32m      6\u001b[0m \u001b[0mprint\u001b[0m\u001b[0;34m(\u001b[0m\u001b[0;34m'Valor: '\u001b[0m\u001b[0;34m+\u001b[0m\u001b[0mstr\u001b[0m\u001b[0;34m(\u001b[0m\u001b[0mvalue\u001b[0m\u001b[0;34m)\u001b[0m\u001b[0;34m)\u001b[0m\u001b[0;34m\u001b[0m\u001b[0m\n\u001b[1;32m      7\u001b[0m \u001b[0mprint\u001b[0m\u001b[0;34m(\u001b[0m\u001b[0;34m'Loops: '\u001b[0m\u001b[0;34m+\u001b[0m\u001b[0mstr\u001b[0m\u001b[0;34m(\u001b[0m\u001b[0mcount\u001b[0m\u001b[0;34m)\u001b[0m\u001b[0;34m)\u001b[0m\u001b[0;34m\u001b[0m\u001b[0m\n",
      "\u001b[0;32m<ipython-input-3-21c940bea7a1>\u001b[0m in \u001b[0;36mfalsa_posicao\u001b[0;34m(a, b, f, maxit, erro)\u001b[0m\n\u001b[1;32m      8\u001b[0m \u001b[0;31m#         print('f: '+str(f(b)-f(a)))\u001b[0m\u001b[0;34m\u001b[0m\u001b[0;34m\u001b[0m\u001b[0m\n\u001b[1;32m      9\u001b[0m \u001b[0;34m\u001b[0m\u001b[0m\n\u001b[0;32m---> 10\u001b[0;31m         \u001b[0mx\u001b[0m \u001b[0;34m=\u001b[0m \u001b[0;34m(\u001b[0m\u001b[0ma\u001b[0m\u001b[0;34m*\u001b[0m\u001b[0mf\u001b[0m\u001b[0;34m(\u001b[0m\u001b[0mb\u001b[0m\u001b[0;34m)\u001b[0m\u001b[0;34m-\u001b[0m\u001b[0mb\u001b[0m\u001b[0;34m*\u001b[0m\u001b[0mf\u001b[0m\u001b[0;34m(\u001b[0m\u001b[0ma\u001b[0m\u001b[0;34m)\u001b[0m\u001b[0;34m)\u001b[0m\u001b[0;34m/\u001b[0m\u001b[0;34m(\u001b[0m\u001b[0mf\u001b[0m\u001b[0;34m(\u001b[0m\u001b[0mb\u001b[0m\u001b[0;34m)\u001b[0m\u001b[0;34m-\u001b[0m\u001b[0mf\u001b[0m\u001b[0;34m(\u001b[0m\u001b[0ma\u001b[0m\u001b[0;34m)\u001b[0m\u001b[0;34m)\u001b[0m\u001b[0;34m\u001b[0m\u001b[0m\n\u001b[0m\u001b[1;32m     11\u001b[0m         \u001b[0mcount\u001b[0m\u001b[0;34m+=\u001b[0m\u001b[0;36m1\u001b[0m\u001b[0;34m\u001b[0m\u001b[0m\n\u001b[1;32m     12\u001b[0m \u001b[0;34m\u001b[0m\u001b[0m\n",
      "\u001b[0;31mZeroDivisionError\u001b[0m: float division by zero"
     ]
    }
   ],
   "source": [
    "A = 0\n",
    "B = 2\n",
    "MAXIT = 100\n",
    "ERRO = 10**(-5)\n",
    "value, count = falsa_posicao(A,B,f,MAXIT,ERRO)\n",
    "print('Valor: '+str(value))\n",
    "print('Loops: '+str(count))"
   ]
  },
  {
   "cell_type": "markdown",
   "metadata": {},
   "source": [
    "Como pode ser visto, o método da bisseção encontrou uma raiz exata com somente 1 passo. Já o método da falsa posição não obteve um resultado satisfatório, pois ao calcular $x = \\frac{af(b) - bf(a)}{f(b)-f(a)}$ obtemos uma divisão por 0, o que é um problema esperado do método."
   ]
  },
  {
   "cell_type": "markdown",
   "metadata": {},
   "source": [
    "### Encontrando o valor da equação $x^3+4x^2 -10 =0$ no intervalo $[1,2]$ para as seguintes funções de ponto fixo:\n",
    "\n",
    "$\\phi(x)=x - x^3 - 4x^2 + 10 ,\\ \\max_{x \\in I} \\mid \\phi^\\prime(x)\\mid = 10 > 1$, Não converge\n",
    "\n",
    "$\\phi(x)=\\dfrac{1}{2}\\sqrt{10 - x^3},\\ \\max_{x \\in I} \\mid \\phi^\\prime(x)\\mid = 0.25 < 1$, Irá convergir\n",
    "\n",
    "$\\phi(x)=\\sqrt{\\dfrac{10}{4+x}},\\ \\max_{x \\in I} \\mid \\phi^\\prime(x)\\mid = 0.11 < 1$, Irá convergir\n",
    "\n",
    "$\\phi(x)=x - \\dfrac{x^3 + 4x^2 - 10}{3x^2+8x},\\ \\max_{x \\in I} \\mid \\phi^\\prime(x)\\mid = 0.57 < 1$, Irá convergir"
   ]
  },
  {
   "cell_type": "code",
   "execution_count": 8,
   "metadata": {},
   "outputs": [],
   "source": [
    "def f_original(x):\n",
    "    return x**3 + 4*x**2 - 10\n",
    "\n",
    "def phi01(x):\n",
    "    return x - x**3 - 4*x**2 + 10\n",
    "\n",
    "def phi02(x):\n",
    "    return (1/2)*np.sqrt(10-x**3)\n",
    "\n",
    "def phi03(x):\n",
    "    return np.sqrt(10/(4+x))\n",
    "\n",
    "def phi04(x):\n",
    "    return x - (x**3 + 4*x**2 - 10)/(3*x**2+8*x)"
   ]
  },
  {
   "cell_type": "markdown",
   "metadata": {},
   "source": [
    "### Gráfico de $f(x) = x^3+4x^2 -10$"
   ]
  },
  {
   "cell_type": "code",
   "execution_count": 9,
   "metadata": {},
   "outputs": [
    {
     "data": {
      "image/png": "[encoded data removed]",
      "text/plain": [
       "<Figure size 432x288 with 1 Axes>"
      ]
     },
     "metadata": {},
     "output_type": "display_data"
    }
   ],
   "source": [
    "v = [f_original(x) for x in np.arange(1,2,0.01)]\n",
    "plt.plot(np.arange(1,2,0.01),v)\n",
    "plt.grid()\n",
    "# plt.savefig('ex02.pdf')\n",
    "plt.show()"
   ]
  },
  {
   "cell_type": "code",
   "execution_count": 10,
   "metadata": {},
   "outputs": [],
   "source": [
    "def ponto_fixo(x0,f,phi,maxit,erro):\n",
    "    x_old = x0\n",
    "    count = 0\n",
    "    \n",
    "    for i in range(maxit):\n",
    "        count += 1\n",
    "        x = phi(x_old)\n",
    "        \n",
    "        if abs(f(x)) < erro:\n",
    "            return x, count\n",
    "        \n",
    "        x_old = x\n",
    "        \n",
    "    return x, count      "
   ]
  },
  {
   "cell_type": "code",
   "execution_count": 11,
   "metadata": {},
   "outputs": [
    {
     "name": "stdout",
     "output_type": "stream",
     "text": [
      "Phi01:\n",
      "(34, 'Numerical result out of range')\n",
      "\n",
      "\n",
      "Phi02:\n",
      "Valor: 1.3652295783339587\n",
      "Loops: 19.0\n",
      "\n",
      "\n",
      "Phi03:\n",
      "Valor: 1.3652305756734338\n",
      "Loops: 6.0\n",
      "\n",
      "\n",
      "Phi04:\n",
      "Valor: 1.3652300139161466\n",
      "Loops: 3.0\n",
      "\n",
      "\n"
     ]
    }
   ],
   "source": [
    "funcoes_phi = [phi01,phi02,phi03,phi04]\n",
    "X0 = 1.5\n",
    "MAXIT = 1000\n",
    "ERRO = 10**(-5)\n",
    "\n",
    "c = 0\n",
    "for phi in funcoes_phi:\n",
    "    c+=1\n",
    "    try:\n",
    "        print('Phi0'+str(c)+':')\n",
    "        value, count = np.float64(ponto_fixo(X0,f_original,phi,MAXIT,ERRO))\n",
    "        print('Valor: '+str(value))\n",
    "        print('Loops: '+str(count))\n",
    "        print('\\n')\n",
    "    except Exception as e:\n",
    "        print(e)\n",
    "        print('\\n')\n",
    "        "
   ]
  },
  {
   "cell_type": "code",
   "execution_count": 12,
   "metadata": {},
   "outputs": [],
   "source": [
    "def fNewton(x):\n",
    "    return np.exp(2*x)-2*np.exp(x) + 1\n",
    "\n",
    "def f_der(x):\n",
    "    return 2*np.exp(2*x)-2*np.exp(x)"
   ]
  },
  {
   "cell_type": "markdown",
   "metadata": {},
   "source": [
    "### Função a ser analisada:"
   ]
  },
  {
   "cell_type": "code",
   "execution_count": 13,
   "metadata": {},
   "outputs": [
    {
     "data": {
      "image/png": "[encoded data removed]",
      "text/plain": [
       "<Figure size 432x288 with 1 Axes>"
      ]
     },
     "metadata": {},
     "output_type": "display_data"
    }
   ],
   "source": [
    "v = [fNewton(x) for x in np.arange(-1,1,0.01)]\n",
    "plt.plot(np.arange(-1,1,0.01),v)\n",
    "plt.ylim(-0.5,3)\n",
    "plt.grid()\n",
    "# plt.savefig('ex03.pdf')\n",
    "plt.show()"
   ]
  },
  {
   "cell_type": "code",
   "execution_count": 14,
   "metadata": {},
   "outputs": [],
   "source": [
    "def newton(x0,f,f_der,maxit,erro):\n",
    "    x_old = x0\n",
    "    count = 0\n",
    "    \n",
    "    for i in range(maxit):\n",
    "        x = x_old - f(x_old)/f_der(x_old)\n",
    "        count += 1\n",
    "        if abs(x-x_old) < erro:\n",
    "            return x, count\n",
    "        \n",
    "        x_old = x\n",
    "        \n",
    "    return x, count"
   ]
  },
  {
   "cell_type": "code",
   "execution_count": 15,
   "metadata": {},
   "outputs": [
    {
     "name": "stderr",
     "output_type": "stream",
     "text": [
      "/home/victor/anaconda3/lib/python3.6/site-packages/ipykernel_launcher.py:6: RuntimeWarning: invalid value encountered in double_scalars\n",
      "  \n"
     ]
    },
    {
     "data": {
      "text/plain": [
       "(nan, 1000)"
      ]
     },
     "execution_count": 15,
     "metadata": {},
     "output_type": "execute_result"
    }
   ],
   "source": [
    "# Parametros de teste\n",
    "X0 = 0\n",
    "ERRO = 10**(-5)\n",
    "MAXIT = 1000\n",
    "\n",
    "newton(X0,fNewton,f_der,MAXIT,ERRO)"
   ]
  },
  {
   "cell_type": "markdown",
   "metadata": {},
   "source": [
    "O método de Newton não converge nesse caso com o chute inicial $x_0 = 0$, pois ao calcular $x_1 = 0 + \\frac{f(0)}{f'(0)}$ resulta em um $x_1 = \\frac{0}{0}$, assim obtemos um nan como resposta. Assim convém utilizar o método da secante para tentar encontrar um valor aproximado para a raiz."
   ]
  },
  {
   "cell_type": "code",
   "execution_count": 16,
   "metadata": {},
   "outputs": [],
   "source": [
    "def secante(x_1,x0,f,maxit,erro):\n",
    "    xk_1 = x_1\n",
    "    xk = x0\n",
    "    count = 0\n",
    "    \n",
    "    for i in range(maxit):\n",
    "        x = (f(xk)*xk_1 - f(xk_1)*xk)/(f(xk) - f(xk_1))\n",
    "        count+=1\n",
    "        \n",
    "        if abs(x-xk) < erro:\n",
    "            return x, count        \n",
    "        \n",
    "        xk_1 = xk\n",
    "        xk = x\n",
    "        \n",
    "    return x, count"
   ]
  },
  {
   "cell_type": "markdown",
   "metadata": {},
   "source": [
    "Secante:"
   ]
  },
  {
   "cell_type": "code",
   "execution_count": 17,
   "metadata": {},
   "outputs": [
    {
     "name": "stdout",
     "output_type": "stream",
     "text": [
      "Valor: 1.0202935614755492e-05\n",
      "Loops: 27.0\n"
     ]
    }
   ],
   "source": [
    "X_1 = -1\n",
    "X0 = 1\n",
    "value, count = np.float64(secante(X_1,X0,fNewton,MAXIT,ERRO))\n",
    "print('Valor: '+str(value))\n",
    "print('Loops: '+str(count))"
   ]
  },
  {
   "cell_type": "markdown",
   "metadata": {},
   "source": [
    "Newton:"
   ]
  },
  {
   "cell_type": "code",
   "execution_count": 18,
   "metadata": {},
   "outputs": [
    {
     "name": "stdout",
     "output_type": "stream",
     "text": [
      "Valor: 6.742121806712382e-06\n",
      "Loops: 14.0\n"
     ]
    }
   ],
   "source": [
    "# Novo chute inicial\n",
    "X0 = 0.1\n",
    "\n",
    "value, count = np.float64(newton(X0,fNewton,f_der,MAXIT,ERRO))\n",
    "print('Valor: '+str(value))\n",
    "print('Loops: '+str(count))"
   ]
  },
  {
   "cell_type": "markdown",
   "metadata": {},
   "source": [
    "### Analise da equação $e^{x}(x-1)-e^{-x}(x+1)$\n",
    "Isso no intervalo $I = [0,2]$ e utilizando erro relativo com a tolerância $\\epsilon = 10^{-8}$\n",
    "\n",
    "Utilizando: $$f^\\prime(x) = xe^{-x}+xe^{x}$$ e $$\\phi(x) = \\frac{e^{x}+e^{-x}}{e^{x} - e^{-x}}$$\n",
    "Além disso, sobre a convergência de $\\phi(x)$: $$\\max_{x \\in I} \\mid \\phi^\\prime(x)\\mid = \\max_{x \\in I} \\mid -\\frac{(4e^{2x})}{(e^{2x} - 1)^{2}} \\mid = 0.07602 < 1$$\n",
    " O que significa que irá convergir"
   ]
  },
  {
   "cell_type": "code",
   "execution_count": 19,
   "metadata": {},
   "outputs": [],
   "source": [
    "def f_ex04(x):\n",
    "    return np.exp(x)*(x-1)-np.exp(-x)*(x+1)"
   ]
  },
  {
   "cell_type": "code",
   "execution_count": 20,
   "metadata": {},
   "outputs": [],
   "source": [
    "def der_f_ex04(x):\n",
    "    return x*np.exp(-x) + x*np.exp(x)"
   ]
  },
  {
   "cell_type": "code",
   "execution_count": 21,
   "metadata": {},
   "outputs": [],
   "source": [
    "def phi_ex04(x):\n",
    "    return (np.exp(x)+np.exp(-x))/(np.exp(x)-np.exp(-x))"
   ]
  },
  {
   "cell_type": "code",
   "execution_count": 22,
   "metadata": {},
   "outputs": [
    {
     "data": {
      "image/png": "[encoded data removed]",
      "text/plain": [
       "<Figure size 432x288 with 1 Axes>"
      ]
     },
     "metadata": {},
     "output_type": "display_data"
    }
   ],
   "source": [
    "v = [f_ex04(x) for x in np.arange(-1,2,0.01)]\n",
    "plt.plot(np.arange(-1,2,0.01),v)\n",
    "plt.grid()\n",
    "# plt.savefig('ex04.pdf')\n",
    "plt.show()"
   ]
  },
  {
   "cell_type": "code",
   "execution_count": 36,
   "metadata": {},
   "outputs": [
    {
     "name": "stdout",
     "output_type": "stream",
     "text": [
      "Bissecao: \n",
      "Valor: 1.1996786408126354\n",
      "Loops: 29.0\n",
      "\n",
      "Falsa Posição [0,2]: \n",
      "Valor: 1.1996786380597986\n",
      "Loops: 347.0\n",
      "\n",
      "Falsa Posição [0.5,1.5]: \n",
      "Valor: 1.1996786384496014\n",
      "Loops: 11.0\n",
      "\n",
      "Ponto Fixo:\n",
      "Valor: 1.1996786416780372\n",
      "Loops: 23.0\n",
      "\n",
      "Newton:\n",
      "Valor: 1.199678640257734\n",
      "Loops: 5.0\n",
      "\n",
      "Secante:\n",
      "Valor: 1.1996786402577329\n",
      "Loops: 7.0\n"
     ]
    }
   ],
   "source": [
    "A = 0\n",
    "B = 2\n",
    "MAXIT = 1000\n",
    "ERRO = 10**(-8)\n",
    "X0 = (A+B)/2\n",
    "\n",
    "print('Bissecao: ')\n",
    "value, count = np.float64(bissecao(A,B,f_ex04,MAXIT,ERRO))\n",
    "print('Valor: '+str(value))\n",
    "print('Loops: '+str(count)+'\\n')\n",
    "\n",
    "print('Falsa Posição ['+str(A)+','+str(B)+']: ')\n",
    "value, count = np.float64(falsa_posicao(A,B,f_ex04,MAXIT,ERRO))\n",
    "print('Valor: '+str(value))\n",
    "print('Loops: '+str(count)+'\\n')\n",
    "\n",
    "print('Falsa Posição [0.5,1.5]: ')\n",
    "value, count = np.float64(falsa_posicao(0.5,1.5,f_ex04,MAXIT,ERRO))\n",
    "print('Valor: '+str(value))\n",
    "print('Loops: '+str(count)+'\\n')\n",
    "\n",
    "\n",
    "print('Ponto Fixo:')\n",
    "value, count = np.float64(ponto_fixo(X0,f_ex04,phi_ex04,MAXIT,ERRO))\n",
    "print('Valor: '+str(value))\n",
    "print('Loops: '+str(count)+'\\n')\n",
    "\n",
    "print('Newton:')\n",
    "value, count = np.float64(newton(X0,f_ex04,der_f_ex04,MAXIT,ERRO))\n",
    "print('Valor: '+str(value))\n",
    "print('Loops: '+str(count)+'\\n')\n",
    "\n",
    "print('Secante:')\n",
    "value, count = np.float64(secante(0.5,1.5,f_ex04,MAXIT,ERRO))\n",
    "print('Valor: '+str(value))\n",
    "print('Loops: '+str(count))"
   ]
  },
  {
   "cell_type": "code",
   "execution_count": null,
   "metadata": {},
   "outputs": [],
   "source": []
  }
 ],
 "metadata": {
  "kernelspec": {
   "display_name": "Python 3",
   "language": "python",
   "name": "python3"
  },
  "language_info": {
   "codemirror_mode": {
    "name": "ipython",
    "version": 3
   },
   "file_extension": ".py",
   "mimetype": "text/x-python",
   "name": "python",
   "nbconvert_exporter": "python",
   "pygments_lexer": "ipython3",
   "version": "3.6.1"
  }
 },
 "nbformat": 4,
 "nbformat_minor": 2
}
