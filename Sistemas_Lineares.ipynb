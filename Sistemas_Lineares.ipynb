{
 "cells": [
  {
   "cell_type": "code",
   "execution_count": 1,
   "metadata": {
    "collapsed": true
   },
   "outputs": [],
   "source": [
    "import matplotlib.pyplot as plt\n",
    "import numpy as np\n",
    "from numpy import arange\n",
    "import math\n",
    "import datetime\n",
    "import metodos_sistemas_lineares as sl"
   ]
  },
  {
   "cell_type": "code",
   "execution_count": 2,
   "metadata": {},
   "outputs": [
    {
     "name": "stdout",
     "output_type": "stream",
     "text": [
      "Gauss: (array([ 3.,  1., -1.]), 13)\n",
      "LU: (array([ 3.,  1., -1.]), 5)\n",
      "Cholesky: (array([ 3.,  1., -1.]), 4)\n",
      "Jacobi: (array([ 2.99966454,  1.00026848, -1.00013994]), 195)\n",
      "Gauss-Seidel: (array([ 3.00003139,  1.00000013, -1.00000206]), 91)\n"
     ]
    }
   ],
   "source": [
    "# Testando os métodos\n",
    "A = [[4,-2,2],[-2,10,-7],[2,-7,30]]\n",
    "B = [8,11,-31]\n",
    "# A = [[1,2,-1],[2,3,-2],[1,-2,1]]\n",
    "# B = [2,3,0]\n",
    "# A = [[2,4,-2],[4,9,-3],[-2,-3,7]]\n",
    "# B = [2,8,10]\n",
    "print('Gauss: '+str(sl.Gauss(A,B)))\n",
    "A = [[4,-2,2],[-2,10,-7],[2,-7,30]]\n",
    "B = [8,11,-31]\n",
    "print('LU: '+str(sl.LU(A,B)))\n",
    "A = [[4,-2,2],[-2,10,-7],[2,-7,30]]\n",
    "B = [8,11,-31]\n",
    "print('Cholesky: '+str(sl.Cholesky(A,B)))\n",
    "A = [[4,-2,2],[-2,10,-7],[2,-7,30]]\n",
    "B = [8,11,-31]\n",
    "print('Jacobi: '+str(sl.Jacobi(A,B,[0]*len(B),1000,10**-3)))\n",
    "A = [[4,-2,2],[-2,10,-7],[2,-7,30]]\n",
    "B = [8,11,-31]\n",
    "print('Gauss-Seidel: '+str(sl.GaussSiedel(A,B,0,1000,10**-3)))"
   ]
  },
  {
   "cell_type": "code",
   "execution_count": 3,
   "metadata": {
    "collapsed": true
   },
   "outputs": [],
   "source": [
    "def c2(epsilon):\n",
    "    return (math.exp(-1/math.sqrt(epsilon)) - 1)/(math.exp(1/math.sqrt(epsilon)) - math.exp(-1/math.sqrt(epsilon)))\n",
    "\n",
    "def c1(epsilon,c2):\n",
    "    return -1-c2(epsilon)\n",
    "\n",
    "def analitica_PVC(x,epsilon,c1,c2):\n",
    "    return c1(epsilon,c2) * math.exp(-x/math.sqrt(epsilon)) + c2(epsilon)* math.exp(x/math.sqrt(epsilon)) + 1"
   ]
  },
  {
   "cell_type": "code",
   "execution_count": 4,
   "metadata": {
    "collapsed": true
   },
   "outputs": [],
   "source": [
    "def discretizacao_PVC(h,epsilon):\n",
    "    return ((h ** 2)/ epsilon)"
   ]
  },
  {
   "cell_type": "code",
   "execution_count": null,
   "metadata": {
    "scrolled": true
   },
   "outputs": [],
   "source": [
    "y_eps = []\n",
    "y_analitica = []\n",
    "\n",
    "tam = [1000,1500,2000]\n",
    "it_thomas = []\n",
    "it_jacobi = []\n",
    "it_gauss = []\n",
    "it_gs = []\n",
    "it_lu = []\n",
    "it_cholesky = []\n",
    "\n",
    "for t in tam:\n",
    "    print('Tam: '+str(t)+'\\n')\n",
    "    h = 1/t\n",
    "\n",
    "    e = 0.1\n",
    "\n",
    "    fx = []\n",
    "    a = c = [-1]*len(np.arange(0,1,h))\n",
    "    b = [2+(h**2)/e]*len(np.arange(0,1+h,h))\n",
    "    y_analitica = [np.float32(analitica_PVC(x,e,c1,c2)) for x in arange(0,1+h, h)]\n",
    "\n",
    "    # Adquirindo valores do termo dependente\n",
    "    for i in arange(h,1,h):\n",
    "        fx.append(np.float32(discretizacao_PVC(h, e)))\n",
    "        \n",
    "\n",
    "    M = sl.preenche_tridiagonal(a,b,c)\n",
    "\n",
    "#     Adquirindo valores a partir do algoritmo de thomas\n",
    "#     print('Analitica: '+str(y_analitica[1:-1]))\n",
    "\n",
    "\n",
    "    inicio = datetime.datetime.now()\n",
    "    y_disc, iteracoes = sl.Thomas(M,fx)\n",
    "    it_thomas.append(iteracoes)\n",
    "    fim = datetime.datetime.now()\n",
    "    print('Thomas: Iteracoes: '+str(iteracoes))\n",
    "    print('Duracao: '+str((fim-inicio).total_seconds()))\n",
    "    \n",
    "    print('\\n')\n",
    "    M = sl.preenche_tridiagonal(a,b,c)\n",
    "    sl.critLinhas(M)\n",
    "    print('\\n')\n",
    "    \n",
    "    fx = []\n",
    "    for i in arange(h,1,h):\n",
    "        fx.append(np.float32(discretizacao_PVC(h, e)))\n",
    "\n",
    "    M = sl.preenche_tridiagonal(a,b,c)\n",
    "    inicio = datetime.datetime.now()\n",
    "    x, iteracoes = sl.GaussSiedel(M,fx,0.5,t*10,10**-4)\n",
    "    it_gs.append(iteracoes)\n",
    "    fim = datetime.datetime.now()\n",
    "    print('Gauss siedel: Iteracoes: '+str(iteracoes))\n",
    "    print('Duracao: '+str((fim-inicio).total_seconds()))\n",
    "    \n",
    "    fx = []\n",
    "    for i in arange(h,1,h):\n",
    "        fx.append(np.float32(discretizacao_PVC(h, e)))\n",
    "\n",
    "    M = sl.preenche_tridiagonal(a,b,c)\n",
    "    \n",
    "    inicio = datetime.datetime.now()\n",
    "    x, iteracoes = sl.Jacobi(M,fx,[0.5]*len(fx),t*10,10**-4)\n",
    "    it_jacobi.append(iteracoes)\n",
    "    fim = datetime.datetime.now()\n",
    "    print('Jacobi: Iteracoes: '+str(iteracoes))\n",
    "    print('Duracao: '+str((fim-inicio).total_seconds()))\n",
    "    fx = []\n",
    "\n",
    "    for i in arange(h,1,h):\n",
    "        fx.append(np.float32(discretizacao_PVC(h, e)))\n",
    "\n",
    "    M = sl.preenche_tridiagonal(a,b,c)\n",
    "    inicio = datetime.datetime.now()\n",
    "    x, iteracoes = sl.Gauss(M,fx)\n",
    "    it_gauss.append(iteracoes)\n",
    "    fim = datetime.datetime.now()\n",
    "    print('Gauss: Iteracoes: '+str(iteracoes))\n",
    "    print('Duracao: '+str((fim-inicio).total_seconds()))\n",
    "\n",
    "    \n",
    "\n",
    "    fx = []\n",
    "    for i in arange(h,1,h):\n",
    "        fx.append(np.float32(discretizacao_PVC(h, e)))\n",
    "\n",
    "    M = sl.preenche_tridiagonal(a,b,c)\n",
    "    datetime.datetime.now()\n",
    "    x, iteracoes = sl.LU(M,fx)\n",
    "    it_lu.append(iteracoes)\n",
    "    fim = datetime.datetime.now()\n",
    "    print('LU: Iteracoes: '+str(iteracoes))\n",
    "    print('Duracao: '+str((fim-inicio).total_seconds()))\n",
    "\n",
    "    fx = []\n",
    "    for i in arange(h,1,h):\n",
    "        fx.append(np.float32(discretizacao_PVC(h, e)))\n",
    "\n",
    "    M = sl.preenche_tridiagonal(a,b,c)\n",
    "    inicio = datetime.datetime.now()\n",
    "    x, iteracoes = sl.Cholesky(M,fx)\n",
    "    it_cholesky.append(iteracoes)\n",
    "    fim = datetime.datetime.now()\n",
    "    print('Cholesky: Iteracoes: '+str(iteracoes))\n",
    "    print('Duracao: '+str((fim-inicio).total_seconds()))\n"
   ]
  },
  {
   "cell_type": "code",
   "execution_count": 56,
   "metadata": {},
   "outputs": [],
   "source": [
    "tam = [1000,1500,2000]"
   ]
  },
  {
   "cell_type": "code",
   "execution_count": 59,
   "metadata": {
    "collapsed": true
   },
   "outputs": [],
   "source": [
    "# Resultados obtidos após iterações\n",
    "it_thomas = [1996,2996,3996] \n",
    "it_jacobi = [4689899760,10729010945,19187188010]\n",
    "it_gauss = [332833499,1123875249,2664666999]\n",
    "it_gs = [2356913910,5438607055,9753354105]\n",
    "it_lu = [501500,1127250,2003000]\n",
    "it_cholesky = [16616700,561375500,1331334000]"
   ]
  },
  {
   "cell_type": "code",
   "execution_count": 62,
   "metadata": {},
   "outputs": [],
   "source": [
    "plt.plot(tam,it_jacobi,label='Jacobi')\n",
    "plt.plot(tam,it_thomas,label='Thomas')\n",
    "plt.plot(tam,it_gauss,label='Gauss')\n",
    "plt.plot(tam,it_cholesky,label='Cholesky')\n",
    "plt.plot(tam,it_lu,label='LU')\n",
    "plt.plot(tam,it_gs,label='Gauss-Siedel')\n",
    "plt.yscale('log')\n",
    "plt.xlabel('Ordem da matriz')\n",
    "plt.ylabel('Número de Iterações')\n",
    "plt.legend(bbox_to_anchor=(1.05, 1), loc=2, borderaxespad=0.)\n",
    "# plt.show()\n",
    "plt.savefig('iteracoes',bbox_inches = 'tight')"
   ]
  },
  {
   "cell_type": "code",
   "execution_count": 10,
   "metadata": {
    "collapsed": true
   },
   "outputs": [],
   "source": [
    "def preencheEx2(n):\n",
    "    A = np.array([[0.0]*n]*n)\n",
    "    B = np.array([0.0]*n)\n",
    "    \n",
    "    for i in range(n):\n",
    "        B[i] = 1/(i+n+1)\n",
    "        for j in range(n):\n",
    "            A[i][j] = 1/(i+j+1)\n",
    "            \n",
    "    return A,B"
   ]
  },
  {
   "cell_type": "code",
   "execution_count": 11,
   "metadata": {
    "collapsed": true
   },
   "outputs": [],
   "source": [
    "def norma_erro(A,B,x):\n",
    "    n = len(B)\n",
    "    m = 0\n",
    "    for i in range(n):\n",
    "        s = []\n",
    "        for j in range(n):\n",
    "            s.append(A[i][j]*x[i] - B[i])\n",
    "        if m < max(s):\n",
    "            m = max(s)\n",
    "    return m"
   ]
  },
  {
   "cell_type": "code",
   "execution_count": null,
   "metadata": {},
   "outputs": [
    {
     "name": "stdout",
     "output_type": "stream",
     "text": [
      "10\n",
      "100\n",
      "1000\n"
     ]
    }
   ],
   "source": [
    "tam = [10,100,1000]\n",
    "erro_lu = []\n",
    "erro_gauss = []\n",
    "erro_gp = []\n",
    "for t in tam:\n",
    "    print(t)\n",
    "    A,B = preencheEx2(t)\n",
    "    x,it = sl.LU(A,B)\n",
    "    erro_lu.append(norma_erro(A,B,x))\n",
    "    \n",
    "    A,B = preencheEx2(t)\n",
    "    x,it = sl.Gauss(A,B)\n",
    "    erro_gauss.append(norma_erro(A,B,x))\n",
    "\n",
    "    A,B = preencheEx2(t)\n",
    "    x,it = sl.Gauss_pivot(A,B)\n",
    "    erro_gp.append(norma_erro(A,B,x))\n"
   ]
  },
  {
   "cell_type": "code",
   "execution_count": 39,
   "metadata": {},
   "outputs": [],
   "source": [
    "plt.plot(tam,erro_gauss,label='Gauss')\n",
    "plt.plot(tam,erro_lu,label='LU')\n",
    "plt.plot(tam,erro_gp,label='Gauss Pivot')\n",
    "\n",
    "plt.yscale('log')\n",
    "plt.xlabel('Ordem da matriz')\n",
    "plt.ylabel('Erro Máximo')\n",
    "plt.legend(bbox_to_anchor=(1.05, 1), loc=2, borderaxespad=0.)\n",
    "# plt.show()\n",
    "plt.savefig('erro.png',bbox_inches = 'tight')"
   ]
  },
  {
   "cell_type": "code",
   "execution_count": null,
   "metadata": {
    "collapsed": true
   },
   "outputs": [],
   "source": []
  }
 ],
 "metadata": {
  "kernelspec": {
   "display_name": "Python 3",
   "language": "python",
   "name": "python3"
  },
  "language_info": {
   "codemirror_mode": {
    "name": "ipython",
    "version": 3
   },
   "file_extension": ".py",
   "mimetype": "text/x-python",
   "name": "python",
   "nbconvert_exporter": "python",
   "pygments_lexer": "ipython3",
   "version": "3.6.1"
  }
 },
 "nbformat": 4,
 "nbformat_minor": 2
}
