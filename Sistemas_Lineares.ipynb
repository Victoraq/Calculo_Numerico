{
 "cells": [
  {
   "cell_type": "code",
   "execution_count": 35,
   "metadata": {
    "collapsed": true
   },
   "outputs": [],
   "source": [
    "import matplotlib.pyplot as plt\n",
    "import numpy as np\n",
    "from numpy import arange\n",
    "import math\n",
    "import datetime"
   ]
  },
  {
   "cell_type": "code",
   "execution_count": 2,
   "metadata": {
    "collapsed": true
   },
   "outputs": [],
   "source": [
    "def substituicao(matriz,vetorb):\n",
    "    # Dimensão da matrix\n",
    "    N = len(vetorb)\n",
    "    # Vetor de incognitas\n",
    "    x = np.array([np.float64(0)]*N)\n",
    "    x[0] = vetorb[0]/matriz[0][0]\n",
    "\n",
    "    for i in range(1,N):\n",
    "        s = vetorb[i]\n",
    "        \n",
    "        for j in range(0,i):\n",
    "            s = s - matriz[i][j] * x[j]\n",
    "        \n",
    "        x[i] = s / matriz[i][i]\n",
    "    \n",
    "    return x"
   ]
  },
  {
   "cell_type": "code",
   "execution_count": 3,
   "metadata": {
    "collapsed": true
   },
   "outputs": [],
   "source": [
    "def retro_substituicao(matriz,vetorb):\n",
    "    # Dimensão da matrix\n",
    "    N = len(vetorb)\n",
    "    # Vetor de incognitas\n",
    "    x = np.array([np.float64(0)]*N)\n",
    "    x[N-1] = vetorb[N-1]/matriz[N-1][N-1]\n",
    "\n",
    "    for i in np.arange(N-2,-1,-1):\n",
    "        s = vetorb[i]\n",
    "        \n",
    "        for j in range(i,N):\n",
    "            s -= matriz[i][j] * x[j]\n",
    "        \n",
    "        x[i] = s / matriz[i][i]\n",
    "    \n",
    "    return x"
   ]
  },
  {
   "cell_type": "code",
   "execution_count": 4,
   "metadata": {
    "collapsed": true
   },
   "outputs": [],
   "source": [
    "def Gauss(matriz,vetorb):\n",
    "    # Dimensão da matrix\n",
    "    N = len(vetorb)\n",
    "    iteracoes = 0\n",
    "    \n",
    "    for k in range(0,N-1):\n",
    "        iteracoes+=1\n",
    "        for i in range(k+1,N):\n",
    "            iteracoes+=1\n",
    "            m = matriz[i][k] / matriz[k][k]\n",
    "            \n",
    "            for j in range(k, N):\n",
    "                iteracoes+=1\n",
    "                matriz[i][j] = matriz[i][j] - m * matriz[k][j]\n",
    "                \n",
    "            vetorb[i] = vetorb[i] - m * vetorb[k]\n",
    "            \n",
    "#     print(matriz)\n",
    "#     print(vetorb)\n",
    "    x = retro_substituicao(matriz,vetorb)\n",
    "    \n",
    "    return x, iteracoes"
   ]
  },
  {
   "cell_type": "code",
   "execution_count": 21,
   "metadata": {
    "collapsed": true
   },
   "outputs": [],
   "source": [
    "def trocalinhas(matriz,B, linha1, linha2):\n",
    "    aux = matriz[linha1].copy()\n",
    "    matriz[linha1] = matriz[linha2]\n",
    "    matriz[linha2] = aux\n",
    "    \n",
    "    aux = B[linha1]\n",
    "    B[linha1] = B[linha2]\n",
    "    B[linha2] = aux"
   ]
  },
  {
   "cell_type": "code",
   "execution_count": 6,
   "metadata": {
    "collapsed": true
   },
   "outputs": [],
   "source": [
    "def Gauss_pivot(matriz,vetorb):\n",
    "    # Dimensão da matrix\n",
    "    N = len(vetorb)\n",
    "    iteracoes = 0\n",
    "\n",
    "    for k in range(0,N-1):\n",
    "#         print('Inicio: ')\n",
    "#         print(matriz)\n",
    "        w = abs(matriz[k][k])\n",
    "        \n",
    "        lr = k\n",
    "        for j in range(k,N):\n",
    "            if abs(matriz[j][k]) > w:\n",
    "                w = abs(matriz[j][k])\n",
    "                lr = j\n",
    "        \n",
    "        if (lr != k):\n",
    "#             print('entrou')\n",
    "            trocalinhas(matriz,vetorb,k,lr)\n",
    "#             print(matriz)\n",
    "            \n",
    "        \n",
    "#         print('Iterações')\n",
    "        for i in range(k+1,N):\n",
    "#             print(str(matriz[i][k])+\"/\"+str(matriz[k][k]))\n",
    "            m = matriz[i][k] / matriz[k][k]\n",
    "            iteracoes+=1\n",
    "            for j in range(k,N):\n",
    "                iteracoes+=1\n",
    "                matriz[i][j] = matriz[i][j] - m * matriz[k][j]\n",
    "#                 print(matriz)\n",
    "                \n",
    "                \n",
    "            vetorb[i] = vetorb[i] - m * vetorb[k]\n",
    "            \n",
    "    x = retro_substituicao(matriz,vetorb)\n",
    "    \n",
    "    return x, iteracoes"
   ]
  },
  {
   "cell_type": "code",
   "execution_count": 7,
   "metadata": {
    "collapsed": true
   },
   "outputs": [],
   "source": [
    "def LU(A,B):\n",
    "    N = len(A)\n",
    "    U = np.array(A)\n",
    "    L = np.array([[np.float64(0)]*N]*N)\n",
    "    iteracoes = 0\n",
    "    \n",
    "    for x in range(N):\n",
    "        L[x][x] = 1\n",
    "    \n",
    "    for i in range(N-1):\n",
    "        iteracoes+=1\n",
    "        for j in range(i+1,N):\n",
    "            iteracoes+=1\n",
    "            L[j][i] = U[j][i] / U[i][i]\n",
    "            U[j] = U[j] - L[j][i] * U[i]\n",
    "            U[j][i] = 0\n",
    "\n",
    "    y = substituicao(L,B)\n",
    "    x = retro_substituicao(U,y)\n",
    "    \n",
    "    return x, iteracoes"
   ]
  },
  {
   "cell_type": "code",
   "execution_count": 8,
   "metadata": {
    "collapsed": true
   },
   "outputs": [],
   "source": [
    "def Cholesky(A,B):\n",
    "    n = len(B)\n",
    "    G = np.array([[np.float64(0)]*n]*n)\n",
    "    iteracoes = 0\n",
    "    \n",
    "    for j in range(n):\n",
    "        iteracoes+=1\n",
    "        s = sum([G[j][k]**2 for k in range(j)])\n",
    "        iteracoes+=j-1\n",
    "        G[j][j] = np.sqrt(A[j][j] - s)\n",
    "        \n",
    "        for i in range(j+1,n):\n",
    "            iteracoes+=1\n",
    "            s = sum([G[i][k]*G[j][k] for k in range(j)])\n",
    "            iteracoes+=j-1\n",
    "            G[i][j] = (A[i][j] - s)/G[j][j]\n",
    "            \n",
    "    y = substituicao(G,B)\n",
    "    x = retro_substituicao(G.T,y)\n",
    "    \n",
    "    return x, iteracoes"
   ]
  },
  {
   "cell_type": "code",
   "execution_count": 9,
   "metadata": {
    "collapsed": true
   },
   "outputs": [],
   "source": [
    "def Jacobi(A,b,x0,maxit,erro):\n",
    "    \n",
    "    n = len(b)\n",
    "    xk = x0\n",
    "    xk1 = [np.float64(0)]*n\n",
    "    iteracoes = 0\n",
    "    \n",
    "    for k in range(maxit):\n",
    "        iteracoes+=1\n",
    "        for i in range(n):\n",
    "            s1 = sum([A[i][j]*xk[j] for j in range(i)])\n",
    "            s2 = sum([A[i][j]*xk[j] for j in range(i+1,n)])\n",
    "            iteracoes+=i-1+(i+n)\n",
    "            xk1[i] = (b[i] - s1 - s2)/A[i][i]\n",
    "#         print(xk)\n",
    "#         print(xk1)\n",
    "        nmax = max([abs(xk1[i] - xk[i]) for i in range(n)])\n",
    "\n",
    "        if nmax < erro:\n",
    "#             print('inter: '+str(k))\n",
    "            return np.array(xk1), iteracoes\n",
    "        else:\n",
    "            xk = xk1.copy()\n"
   ]
  },
  {
   "cell_type": "code",
   "execution_count": 10,
   "metadata": {
    "collapsed": true
   },
   "outputs": [],
   "source": [
    "def GaussSiedel(A,B, chute, maxit, erro):\n",
    "    \n",
    "    n = len(B)\n",
    "    x = [chute]*n\n",
    "    x_ant = [chute]*n\n",
    "    iteracoes = 0\n",
    "    \n",
    "    for k in range(maxit):\n",
    "        iteracoes+=1\n",
    "        for i in range(n):\n",
    "            s1 = sum([A[i][j]*x[j] for j in range(i)])\n",
    "            s2 = sum([A[i][j]*x[j] for j in range(i+1,n)])\n",
    "            iteracoes+=i-1+(i+n)\n",
    "            x[i] = (B[i] - s1 - s2)/A[i][i]\n",
    "        \n",
    "        nmax = max([abs(x[i] - x_ant[i]) for i in range(n)])\n",
    "\n",
    "        if nmax < erro:\n",
    "            return np.array(x), iteracoes\n",
    "        else:\n",
    "            x_ant = x.copy()"
   ]
  },
  {
   "cell_type": "code",
   "execution_count": 11,
   "metadata": {
    "collapsed": true
   },
   "outputs": [],
   "source": [
    "def preenche_tridiagonal(a,b,c):\n",
    "    n = len(b)\n",
    "    \n",
    "    M = np.array([[np.float64(0)]*n]*n) # Matriz tridiadonal a ser retornada\n",
    "    \n",
    "    for i in range(n):\n",
    "        M[i][i] = b[i]\n",
    "        if (i < n-1 and i < n-1):\n",
    "            M[i][i+1] = a[i]\n",
    "        if (i > 0 and i < n-1):\n",
    "            M[i][i-1] = c[i]\n",
    "            \n",
    "    M[n-1][-2] = c[-1]\n",
    "        \n",
    "    return M"
   ]
  },
  {
   "cell_type": "code",
   "execution_count": 12,
   "metadata": {
    "collapsed": true
   },
   "outputs": [],
   "source": [
    "def Thomas(A,B):\n",
    "    ''' Resolve Ax = d onde A é uma matriz tridiagonal composta pelos vetores a, b, c\n",
    "    a - subdiagonal\n",
    "    b - diagonal principal\n",
    "    c - superdiagonal\n",
    "    Retorna x\n",
    "    '''\n",
    "    \n",
    "    a = [M[i][i+1] for i in range(len(M)-1)]\n",
    "    b = [M[i][i] for i in range(len(M))]\n",
    "    c = [M[i][i-1] for i in range(1,len(M))]\n",
    "    d = B\n",
    "    n = len(d)\n",
    "    iteracoes = 0\n",
    "    \n",
    "    c_ = [ c[0] / b[0] ]\n",
    "    d_ = [ d[0] / b[0] ]\n",
    "    \n",
    "    for i in range(1, n):\n",
    "        iteracoes+=1\n",
    "        aux = b[i] - c_[i-1]*a[i-1]\n",
    "        if i < n-1:\n",
    "            c_.append( c[i] / aux )\n",
    "        d_.append( (d[i] - d_[i-1]*a[i-1])/aux )\n",
    "    \n",
    "    # Substituição de volta\n",
    "    x = [d_[-1]]\n",
    "    for i in range(n-2, -1, -1):\n",
    "        iteracoes+=1\n",
    "        x = [ d_[i] - c_[i]*x[0] ] + x\n",
    "    \n",
    "    return np.array(x), iteracoes"
   ]
  },
  {
   "cell_type": "code",
   "execution_count": 13,
   "metadata": {},
   "outputs": [
    {
     "name": "stdout",
     "output_type": "stream",
     "text": [
      "Gauss: (array([ 3.,  1., -1.]), 13)\n",
      "LU: (array([ 3.,  1., -1.]), 5)\n",
      "Cholesky: (array([ 3.,  1., -1.]), 4)\n",
      "Jacobi: (array([ 2.99966454,  1.00026848, -1.00013994]), 195)\n",
      "Gauss-Seidel: (array([ 3.00003139,  1.00000013, -1.00000206]), 91)\n"
     ]
    }
   ],
   "source": [
    "# Testando os métodos\n",
    "A = [[4,-2,2],[-2,10,-7],[2,-7,30]]\n",
    "B = [8,11,-31]\n",
    "# A = [[1,2,-1],[2,3,-2],[1,-2,1]]\n",
    "# B = [2,3,0]\n",
    "# A = [[2,4,-2],[4,9,-3],[-2,-3,7]]\n",
    "# B = [2,8,10]\n",
    "print('Gauss: '+str(Gauss(A,B)))\n",
    "A = [[4,-2,2],[-2,10,-7],[2,-7,30]]\n",
    "B = [8,11,-31]\n",
    "print('LU: '+str(LU(A,B)))\n",
    "A = [[4,-2,2],[-2,10,-7],[2,-7,30]]\n",
    "B = [8,11,-31]\n",
    "print('Cholesky: '+str(Cholesky(A,B)))\n",
    "A = [[4,-2,2],[-2,10,-7],[2,-7,30]]\n",
    "B = [8,11,-31]\n",
    "print('Jacobi: '+str(Jacobi(A,B,[0]*len(B),1000,10**-3)))\n",
    "A = [[4,-2,2],[-2,10,-7],[2,-7,30]]\n",
    "B = [8,11,-31]\n",
    "print('Gauss-Seidel: '+str(GaussSiedel(A,B,0,1000,10**-3)))"
   ]
  },
  {
   "cell_type": "code",
   "execution_count": 14,
   "metadata": {
    "collapsed": true
   },
   "outputs": [],
   "source": [
    "def critLinhas(A):\n",
    "    alfa = []\n",
    "    n = len(A)\n",
    "    for i in range(n):\n",
    "        s = 0\n",
    "        for j in range(n):\n",
    "            if i == j: continue\n",
    "            s+=abs(A[i][j]/A[i][i])\n",
    "        alfa.append(s)\n",
    "    \n",
    "    if (max(alfa) < 1):\n",
    "        print('Converge: '+str(max(alfa))+' < 1')\n",
    "    else:\n",
    "        print('Não Converge: '+str(max(alfa))+' >= 1')"
   ]
  },
  {
   "cell_type": "code",
   "execution_count": 15,
   "metadata": {
    "collapsed": true
   },
   "outputs": [],
   "source": [
    "def c2(epsilon):\n",
    "    return (math.exp(-1/math.sqrt(epsilon)) - 1)/(math.exp(1/math.sqrt(epsilon)) - math.exp(-1/math.sqrt(epsilon)))\n",
    "\n",
    "def c1(epsilon,c2):\n",
    "    return -1-c2(epsilon)\n",
    "\n",
    "def analitica_PVC(x,epsilon,c1,c2):\n",
    "    return c1(epsilon,c2) * math.exp(-x/math.sqrt(epsilon)) + c2(epsilon)* math.exp(x/math.sqrt(epsilon)) + 1"
   ]
  },
  {
   "cell_type": "code",
   "execution_count": 16,
   "metadata": {
    "collapsed": true
   },
   "outputs": [],
   "source": [
    "def discretizacao_PVC(h,epsilon):\n",
    "    return ((h ** 2)/ epsilon)"
   ]
  },
  {
   "cell_type": "code",
   "execution_count": 17,
   "metadata": {
    "scrolled": true
   },
   "outputs": [
    {
     "name": "stdout",
     "output_type": "stream",
     "text": [
      "Tam: 1500\n",
      "\n",
      "Thomas: Iteracoes: 2996\n",
      "Duracao: 0.00918\n",
      "\n",
      "\n",
      "Converge: 0.999997777782716 < 1\n",
      "\n",
      "\n",
      "Gauss siedel: Iteracoes: 5438607055\n",
      "Duracao: 1026.600106\n",
      "Jacobi: Iteracoes: 10729010945\n",
      "Duracao: 2244.109192\n",
      "Gauss: Iteracoes: 1123875249\n",
      "Duracao: 981.625649\n",
      "LU: Iteracoes: 1127250\n",
      "Duracao: 992.956134\n",
      "Cholesky: Iteracoes: 561375500\n",
      "Duracao: 375.131958\n"
     ]
    }
   ],
   "source": [
    "y_eps = []\n",
    "y_analitica = []\n",
    "\n",
    "tam = [1000,1500,2000]\n",
    "it_thomas = []\n",
    "it_jacobi = []\n",
    "it_gauss = []\n",
    "it_gs = []\n",
    "it_lu = []\n",
    "it_cholesky = []\n",
    "\n",
    "for t in tam:\n",
    "    print('Tam: '+str(t)+'\\n')\n",
    "    h = 1/t\n",
    "\n",
    "    e = 0.1\n",
    "\n",
    "    fx = []\n",
    "    a = c = [-1]*len(np.arange(0,1,h))\n",
    "    b = [2+(h**2)/e]*len(np.arange(0,1+h,h))\n",
    "    y_analitica = [np.float32(analitica_PVC(x,e,c1,c2)) for x in arange(0,1+h, h)]\n",
    "\n",
    "    # Adquirindo valores do termo dependente\n",
    "    for i in arange(h,1,h):\n",
    "        fx.append(np.float32(discretizacao_PVC(h, e)))\n",
    "        \n",
    "\n",
    "    M = preenche_tridiagonal(a,b,c)\n",
    "\n",
    "#     Adquirindo valores a partir do algoritmo de thomas\n",
    "#     print('Analitica: '+str(y_analitica[1:-1]))\n",
    "\n",
    "\n",
    "    inicio = datetime.datetime.now()\n",
    "    y_disc, iteracoes = Thomas(M,fx)\n",
    "    it_thomas.append(iteracoes)\n",
    "    fim = datetime.datetime.now()\n",
    "    print('Thomas: Iteracoes: '+str(iteracoes))\n",
    "    print('Duracao: '+str((fim-inicio).total_seconds()))\n",
    "    \n",
    "    print('\\n')\n",
    "    M = preenche_tridiagonal(a,b,c)\n",
    "    critLinhas(M)\n",
    "    print('\\n')\n",
    "    \n",
    "    fx = []\n",
    "    for i in arange(h,1,h):\n",
    "        fx.append(np.float32(discretizacao_PVC(h, e)))\n",
    "\n",
    "    M = preenche_tridiagonal(a,b,c)\n",
    "    inicio = datetime.datetime.now()\n",
    "    x, iteracoes = GaussSiedel(M,fx,0.5,t*10,10**-4)\n",
    "    it_gs.append(iteracoes)\n",
    "    fim = datetime.datetime.now()\n",
    "    print('Gauss siedel: Iteracoes: '+str(iteracoes))\n",
    "    print('Duracao: '+str((fim-inicio).total_seconds()))\n",
    "    \n",
    "    fx = []\n",
    "    for i in arange(h,1,h):\n",
    "        fx.append(np.float32(discretizacao_PVC(h, e)))\n",
    "\n",
    "    M = preenche_tridiagonal(a,b,c)\n",
    "    \n",
    "    inicio = datetime.datetime.now()\n",
    "    x, iteracoes = Jacobi(M,fx,[0.5]*len(fx),t*10,10**-4)\n",
    "    it_jacobi.append(iteracoes)\n",
    "    fim = datetime.datetime.now()\n",
    "    print('Jacobi: Iteracoes: '+str(iteracoes))\n",
    "    print('Duracao: '+str((fim-inicio).total_seconds()))\n",
    "    fx = []\n",
    "\n",
    "    for i in arange(h,1,h):\n",
    "        fx.append(np.float32(discretizacao_PVC(h, e)))\n",
    "\n",
    "    M = preenche_tridiagonal(a,b,c)\n",
    "    inicio = datetime.datetime.now()\n",
    "    x, iteracoes = Gauss(M,fx)\n",
    "    it_gauss.append(iteracoes)\n",
    "    fim = datetime.datetime.now()\n",
    "    print('Gauss: Iteracoes: '+str(iteracoes))\n",
    "    print('Duracao: '+str((fim-inicio).total_seconds()))\n",
    "\n",
    "    \n",
    "\n",
    "    fx = []\n",
    "    for i in arange(h,1,h):\n",
    "        fx.append(np.float32(discretizacao_PVC(h, e)))\n",
    "\n",
    "    M = preenche_tridiagonal(a,b,c)\n",
    "    datetime.datetime.now()\n",
    "    x, iteracoes = LU(M,fx)\n",
    "    it_lu.append(iteracoes)\n",
    "    fim = datetime.datetime.now()\n",
    "    print('LU: Iteracoes: '+str(iteracoes))\n",
    "    print('Duracao: '+str((fim-inicio).total_seconds()))\n",
    "\n",
    "    fx = []\n",
    "    for i in arange(h,1,h):\n",
    "        fx.append(np.float32(discretizacao_PVC(h, e)))\n",
    "\n",
    "    M = preenche_tridiagonal(a,b,c)\n",
    "    inicio = datetime.datetime.now()\n",
    "    x, iteracoes = Cholesky(M,fx)\n",
    "    it_cholesky.append(iteracoes)\n",
    "    fim = datetime.datetime.now()\n",
    "    print('Cholesky: Iteracoes: '+str(iteracoes))\n",
    "    print('Duracao: '+str((fim-inicio).total_seconds()))\n"
   ]
  },
  {
   "cell_type": "code",
   "execution_count": 56,
   "metadata": {},
   "outputs": [],
   "source": [
    "tam = [1000,1500,2000]"
   ]
  },
  {
   "cell_type": "code",
   "execution_count": 59,
   "metadata": {
    "collapsed": true
   },
   "outputs": [],
   "source": [
    "# Resultados obtidos após iterações\n",
    "it_thomas = [1996,2996,3996] \n",
    "it_jacobi = [4689899760,10729010945,19187188010]\n",
    "it_gauss = [332833499,1123875249,2664666999]\n",
    "it_gs = [2356913910,5438607055,9753354105]\n",
    "it_lu = [501500,1127250,2003000]\n",
    "it_cholesky = [16616700,561375500,1331334000]"
   ]
  },
  {
   "cell_type": "code",
   "execution_count": 62,
   "metadata": {},
   "outputs": [],
   "source": [
    "plt.plot(tam,it_jacobi,label='Jacobi')\n",
    "plt.plot(tam,it_thomas,label='Thomas')\n",
    "plt.plot(tam,it_gauss,label='Gauss')\n",
    "plt.plot(tam,it_cholesky,label='Cholesky')\n",
    "plt.plot(tam,it_lu,label='LU')\n",
    "plt.plot(tam,it_gs,label='Gauss-Siedel')\n",
    "plt.yscale('log')\n",
    "plt.xlabel('Ordem da matriz')\n",
    "plt.ylabel('Número de Iterações')\n",
    "plt.legend(bbox_to_anchor=(1.05, 1), loc=2, borderaxespad=0.)\n",
    "# plt.show()\n",
    "plt.savefig('iteracoes',bbox_inches = 'tight')"
   ]
  },
  {
   "cell_type": "code",
   "execution_count": 17,
   "metadata": {
    "collapsed": true
   },
   "outputs": [],
   "source": [
    "def preencheEx2(n):\n",
    "    A = np.array([[0.0]*n]*n)\n",
    "    B = np.array([0.0]*n)\n",
    "    \n",
    "    for i in range(n):\n",
    "        B[i] = 1/(i+n+1)\n",
    "        for j in range(n):\n",
    "            A[i][j] = 1/(i+j+1)\n",
    "            \n",
    "    return A,B"
   ]
  },
  {
   "cell_type": "code",
   "execution_count": 19,
   "metadata": {
    "collapsed": true
   },
   "outputs": [],
   "source": [
    "def norma_erro(A,B,x):\n",
    "    n = len(B)\n",
    "    m = 0\n",
    "    for i in range(n):\n",
    "        s = []\n",
    "        for j in range(n):\n",
    "            s.append(A[i][j]*x[i] - B[i])\n",
    "        if m < max(s):\n",
    "            m = max(s)\n",
    "    return m"
   ]
  },
  {
   "cell_type": "code",
   "execution_count": 22,
   "metadata": {},
   "outputs": [
    {
     "name": "stdout",
     "output_type": "stream",
     "text": [
      "10\n",
      "100\n",
      "1000\n"
     ]
    }
   ],
   "source": [
    "tam = [10,100,1000]\n",
    "erro_lu = []\n",
    "erro_gauss = []\n",
    "erro_gp = []\n",
    "for t in tam:\n",
    "    print(t)\n",
    "    A,B = preencheEx2(t)\n",
    "    x,it = LU(A,B)\n",
    "    erro_lu.append(norma_erro(A,B,x))\n",
    "    \n",
    "    A,B = preencheEx2(t)\n",
    "    x,it = Gauss(A,B)\n",
    "    erro_gauss.append(norma_erro(A,B,x))\n",
    "\n",
    "    A,B = preencheEx2(t)\n",
    "    x,it = Gauss_pivot(A,B)\n",
    "    erro_gp.append(norma_erro(A,B,x))\n"
   ]
  },
  {
   "cell_type": "code",
   "execution_count": 39,
   "metadata": {},
   "outputs": [],
   "source": [
    "plt.plot(tam,erro_gauss,label='Gauss')\n",
    "plt.plot(tam,erro_lu,label='LU')\n",
    "plt.plot(tam,erro_gp,label='Gauss Pivot')\n",
    "\n",
    "plt.yscale('log')\n",
    "plt.xlabel('Ordem da matriz')\n",
    "plt.ylabel('Erro Máximo')\n",
    "plt.legend(bbox_to_anchor=(1.05, 1), loc=2, borderaxespad=0.)\n",
    "# plt.show()\n",
    "plt.savefig('erro.png',bbox_inches = 'tight')"
   ]
  },
  {
   "cell_type": "code",
   "execution_count": null,
   "metadata": {
    "collapsed": true
   },
   "outputs": [],
   "source": []
  }
 ],
 "metadata": {
  "kernelspec": {
   "display_name": "Python 3",
   "language": "python",
   "name": "python3"
  },
  "language_info": {
   "codemirror_mode": {
    "name": "ipython",
    "version": 3
   },
   "file_extension": ".py",
   "mimetype": "text/x-python",
   "name": "python",
   "nbconvert_exporter": "python",
   "pygments_lexer": "ipython3",
   "version": "3.6.1"
  }
 },
 "nbformat": 4,
 "nbformat_minor": 2
}
