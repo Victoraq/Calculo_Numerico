{
 "cells": [
  {
   "cell_type": "code",
   "execution_count": 1,
   "metadata": {},
   "outputs": [],
   "source": [
    "import numpy as np\n",
    "import pandas as pd\n",
    "import matplotlib.pyplot as plt\n",
    "from metodos_interpolacao import lagrange, norma_max, linear_partes"
   ]
  },
  {
   "cell_type": "markdown",
   "metadata": {},
   "source": [
    "Função a ser interpolada: $$f(x)=\\dfrac{1}{1+25x^2}$$"
   ]
  },
  {
   "cell_type": "code",
   "execution_count": 2,
   "metadata": {},
   "outputs": [],
   "source": [
    "def f(x):\n",
    "    return np.float64(1 / (1+25*x**2))"
   ]
  },
  {
   "cell_type": "code",
   "execution_count": null,
   "metadata": {},
   "outputs": [],
   "source": [
    "A = -1\n",
    "B = 1\n",
    "z = np.arange(A,B+0.02,0.01)\n",
    "y = [f(xi) for xi in z]"
   ]
  },
  {
   "cell_type": "markdown",
   "metadata": {},
   "source": [
    "Gráfico da curva que será interpolada: "
   ]
  },
  {
   "cell_type": "code",
   "execution_count": null,
   "metadata": {},
   "outputs": [],
   "source": [
    "plt.plot(z,y, label='Analítica')\n",
    "plt.legend()\n",
    "plt.show()"
   ]
  },
  {
   "cell_type": "markdown",
   "metadata": {},
   "source": [
    "Utilizando pontos no formato: $$x_k = a + \\dfrac{b-a}{n}k, \\quad k = 0,1,2,...,n$$"
   ]
  },
  {
   "cell_type": "code",
   "execution_count": null,
   "metadata": {},
   "outputs": [],
   "source": [
    "def pontoA(A,B,k,n):\n",
    "    x = np.float64(A + (B-A)*k/n)\n",
    "    return x"
   ]
  },
  {
   "cell_type": "code",
   "execution_count": null,
   "metadata": {},
   "outputs": [],
   "source": [
    "n = list(range(2,11))\n",
    "\n",
    "fig, axarr = plt.subplots(nrows=2, ncols=5, figsize=(10, 8))\n",
    "fig.subplots_adjust(left=0.03, right=0.97, hspace=0.3, wspace=0.5)\n",
    "c = 0\n",
    "l = 0\n",
    "for ni in n:\n",
    "    # Analitica\n",
    "    z = np.arange(A,B+0.02,0.02)\n",
    "    y = [f(xi) for xi in z]\n",
    "    axarr[l, c].plot(z,y)\n",
    "    \n",
    "    # Estimada\n",
    "    x = [pontoA(A,B,k,ni) for k in range(ni+1)]\n",
    "    x.sort()\n",
    "    y = [f(xi) for xi in x]\n",
    "        \n",
    "    interpol = lagrange(len(x),x,y,z)\n",
    "    \n",
    "    axarr[l, c].plot(z,interpol, label=str(ni))\n",
    "    axarr[l, c].set_title(str(ni))\n",
    "    \n",
    "    c+=1\n",
    "    if (c >= 5):\n",
    "        c = 0\n",
    "        l += 1\n",
    "\n",
    "        \n",
    "plt.show()\n",
    "# plt.savefig('lagrangeA.png', bbox_inches='tight')"
   ]
  },
  {
   "cell_type": "markdown",
   "metadata": {},
   "source": [
    "Utilizando pontos no formato: $$x_k = \\dfrac{a+b}{2} - \\dfrac{b-a}{2}\\cos\\left(\\dfrac{k}{n}\\pi \\right), \\quad k = 0,1,2,...,n.$$"
   ]
  },
  {
   "cell_type": "code",
   "execution_count": null,
   "metadata": {},
   "outputs": [],
   "source": [
    "def pontoB(A,B,k,n):\n",
    "    PI = np.pi\n",
    "    x = np.float64((A+B)/2 - ((B-A)/2)*np.cos(k*PI/n))\n",
    "    return x"
   ]
  },
  {
   "cell_type": "code",
   "execution_count": null,
   "metadata": {},
   "outputs": [],
   "source": [
    "n = list(range(2,11))\n",
    "\n",
    "fig, axarr = plt.subplots(nrows=2, ncols=5, figsize=(10, 8))\n",
    "fig.subplots_adjust(left=0.03, right=0.97, hspace=0.3, wspace=0.5)\n",
    "\n",
    "c = 0\n",
    "l = 0\n",
    "for ni in n:\n",
    "    # Analitica\n",
    "    z = np.arange(A,B+0.02,0.02)\n",
    "    y = [f(xi) for xi in z]\n",
    "    axarr[l, c].plot(z,y)\n",
    "    \n",
    "    # Estimada\n",
    "    x = [pontoB(A,B,k,ni) for k in range(ni+1)]\n",
    "    x.sort()\n",
    "    y = [f(xi) for xi in x]\n",
    "    \n",
    "    interpol = lagrange(len(x),x,y,z)\n",
    "    \n",
    "    axarr[l, c].plot(z,interpol, label=str(ni))\n",
    "    axarr[l, c].set_title(str(ni))\n",
    "    \n",
    "    c+=1\n",
    "    if (c >= 5):\n",
    "        c = 0\n",
    "        l +=1\n",
    "\n",
    "plt.show()\n",
    "# plt.savefig('lagrangeB.png', bbox_inches='tight')"
   ]
  },
  {
   "cell_type": "markdown",
   "metadata": {},
   "source": [
    "Utilizando pontos no formato: $$x_k = -1 + \\dfrac{2}{n}k, \\quad k = 0,1,2,...,n.$$"
   ]
  },
  {
   "cell_type": "code",
   "execution_count": null,
   "metadata": {},
   "outputs": [],
   "source": [
    "def pontoC(k,n):\n",
    "    x = np.float64(-1 + (2/n)*k)\n",
    "    return x"
   ]
  },
  {
   "cell_type": "code",
   "execution_count": null,
   "metadata": {},
   "outputs": [],
   "source": [
    "n = list(range(2,11))\n",
    "\n",
    "fig, axarr = plt.subplots(nrows=2, ncols=5, figsize=(10, 8))\n",
    "fig.subplots_adjust(left=0.03, right=0.97, hspace=0.3, wspace=0.5)\n",
    "\n",
    "c = 0\n",
    "l = 0\n",
    "for ni in n:\n",
    "    # Analitica\n",
    "    z = np.arange(A,B,0.02)\n",
    "    y = [f(xi) for xi in z]\n",
    "    axarr[l, c].plot(z,y)\n",
    "    \n",
    "    # Estimada\n",
    "    x = np.array([pontoC(k,ni) for k in range(ni+1)])\n",
    "    x.sort()\n",
    "    y = [f(xi) for xi in x]\n",
    "    \n",
    "    interpol = linear_partes(len(x),x,y,z)\n",
    "    \n",
    "    axarr[l, c].plot(z,interpol, label=str(ni))\n",
    "    axarr[l, c].set_title(str(ni))\n",
    "    \n",
    "    c+=1\n",
    "    if (c >= 5):\n",
    "        c = 0\n",
    "        l += 1\n",
    "plt.show()\n",
    "# plt.savefig('lagrangeC.png', bbox_inches='tight')"
   ]
  },
  {
   "cell_type": "markdown",
   "metadata": {},
   "source": [
    "Comparação entre os demais resultados:"
   ]
  },
  {
   "cell_type": "code",
   "execution_count": null,
   "metadata": {},
   "outputs": [],
   "source": [
    "n = [2,5,10]\n",
    "erroA = []\n",
    "erroB = []\n",
    "erroC = []\n",
    "\n",
    "for ni in n:\n",
    "    \n",
    "    z = np.arange(A,B,0.02)\n",
    "    \n",
    "    # Pontos do primeiro exercício\n",
    "    x = [pontoA(A,B,k,ni) for k in range(ni+1)]\n",
    "    y = [f(xi) for xi in x]\n",
    "    \n",
    "    interpol = lagrange(len(x),x,y,z)\n",
    "    analitico = [f(xi) for xi in z]\n",
    "    \n",
    "    erroA.append(norma_max(analitico,interpol))\n",
    "    z = np.arange(A,B,0.02)\n",
    "    \n",
    "    # Pontos do segundo exercício \n",
    "    x = [pontoB(A,B,k,ni) for k in range(ni+1)]\n",
    "    y = [f(xi) for xi in x]\n",
    "    \n",
    "    interpol = lagrange(len(x),x,y,z)\n",
    "    analitico = [f(xi) for xi in z]\n",
    "    \n",
    "    erroB.append(norma_max(analitico,interpol))\n",
    "    z = np.arange(A,B,0.02)\n",
    "    \n",
    "    # Pontos do terceiro exercício\n",
    "    x = [pontoC(k,ni) for k in range(ni+1)]\n",
    "    x.sort()\n",
    "    y = [f(xi) for xi in x]\n",
    "    \n",
    "    interpol = linear_partes(len(x),x,y,z)\n",
    "    analitico = [f(xi) for xi in z]\n",
    "    \n",
    "    erroC.append(norma_max(analitico,interpol))"
   ]
  },
  {
   "cell_type": "code",
   "execution_count": null,
   "metadata": {},
   "outputs": [],
   "source": [
    "indices = ['2','5', '10']\n",
    "colunas = ['A', 'B', 'C']\n",
    "\n",
    "df = pd.DataFrame([erroA, erroB, erroC]).T\n",
    "df.columns = colunas\n",
    "df.index = indices"
   ]
  },
  {
   "cell_type": "markdown",
   "metadata": {},
   "source": [
    "Valores de erro pela norma do máximo para cada conjunto de pontos:"
   ]
  },
  {
   "cell_type": "code",
   "execution_count": null,
   "metadata": {},
   "outputs": [],
   "source": [
    "df"
   ]
  },
  {
   "cell_type": "code",
   "execution_count": null,
   "metadata": {},
   "outputs": [],
   "source": [
    "plt.plot(df.index,df['A'], label='A', marker='o')\n",
    "plt.plot(df.index,df['B'], label='B', marker='^')\n",
    "plt.plot(df.index,df['C'], label='C', marker='s')\n",
    "\n",
    "plt.legend()\n",
    "plt.show()\n",
    "# plt.savefig('erro.png', bbox_inches='tight')"
   ]
  },
  {
   "cell_type": "code",
   "execution_count": null,
   "metadata": {},
   "outputs": [],
   "source": []
  }
 ],
 "metadata": {
  "kernelspec": {
   "display_name": "Python 3",
   "language": "python",
   "name": "python3"
  },
  "language_info": {
   "codemirror_mode": {
    "name": "ipython",
    "version": 3
   },
   "file_extension": ".py",
   "mimetype": "text/x-python",
   "name": "python",
   "nbconvert_exporter": "python",
   "pygments_lexer": "ipython3",
   "version": "3.6.1"
  }
 },
 "nbformat": 4,
 "nbformat_minor": 2
}
